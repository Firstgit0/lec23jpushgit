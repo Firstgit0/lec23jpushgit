{
 "cells": [
  {
   "cell_type": "markdown",
   "id": "71755521",
   "metadata": {},
   "source": [
    "# This is the first time using programme\n",
    "## New way to learn programme\n",
    "### Start to learn programme\n"
   ]
  },
  {
   "cell_type": "code",
   "execution_count": 493,
   "id": "0626fc92",
   "metadata": {},
   "outputs": [
    {
     "name": "stdout",
     "output_type": "stream",
     "text": [
      "6\n",
      "Hello everyone how are you\n",
      "Go to the programme and save it in pdf file formate\n",
      "Enter you name :pradeep\n",
      "Hellow pradeep\n"
     ]
    }
   ],
   "source": [
    "print(2+4)\n",
    "print('Hello everyone how are you')\n",
    "print('Go to the programme and save it in pdf file formate')\n",
    "a=input('Enter you name :')\n",
    "print('Hellow',a)"
   ]
  },
  {
   "cell_type": "markdown",
   "id": "02153751",
   "metadata": {},
   "source": [
    "## Tuple  list  dictionary  Set"
   ]
  },
  {
   "cell_type": "code",
   "execution_count": 494,
   "id": "01db7d6a",
   "metadata": {},
   "outputs": [
    {
     "data": {
      "text/plain": [
       "(11, 11.5, 'Python', False)"
      ]
     },
     "execution_count": 494,
     "metadata": {},
     "output_type": "execute_result"
    }
   ],
   "source": [
    "tup1=()\n",
    "tup1\n",
    "type(tup1)\n",
    "tup2=(11,11.5,\"Python\",False)\n",
    "tup2\n"
   ]
  },
  {
   "cell_type": "code",
   "execution_count": 495,
   "id": "b0c40bc6",
   "metadata": {},
   "outputs": [
    {
     "data": {
      "text/plain": [
       "1"
      ]
     },
     "execution_count": 495,
     "metadata": {},
     "output_type": "execute_result"
    }
   ],
   "source": [
    "tup2.count(11)"
   ]
  },
  {
   "cell_type": "code",
   "execution_count": 496,
   "id": "ed3995f5",
   "metadata": {},
   "outputs": [
    {
     "data": {
      "text/plain": [
       "3"
      ]
     },
     "execution_count": 496,
     "metadata": {},
     "output_type": "execute_result"
    }
   ],
   "source": [
    "tup2.index(False)\n"
   ]
  },
  {
   "cell_type": "markdown",
   "id": "efdd0603",
   "metadata": {},
   "source": [
    "## List"
   ]
  },
  {
   "cell_type": "code",
   "execution_count": 497,
   "id": "7b1e3e0e",
   "metadata": {},
   "outputs": [
    {
     "data": {
      "text/plain": [
       "list"
      ]
     },
     "execution_count": 497,
     "metadata": {},
     "output_type": "execute_result"
    }
   ],
   "source": [
    "lst=[]\n",
    "lst\n",
    "type(lst)"
   ]
  },
  {
   "cell_type": "code",
   "execution_count": 498,
   "id": "5f674dab",
   "metadata": {},
   "outputs": [
    {
     "data": {
      "text/plain": [
       "[11, 11.4, 'Python list', False, 22, 44, 55, 65, 322, 32, 42]"
      ]
     },
     "execution_count": 498,
     "metadata": {},
     "output_type": "execute_result"
    }
   ],
   "source": [
    "lst1=[11,11.4,\"Python list\",False,22,44,55,65,322,32,42]\n",
    "lst1"
   ]
  },
  {
   "cell_type": "code",
   "execution_count": 499,
   "id": "e8ad636b",
   "metadata": {},
   "outputs": [
    {
     "data": {
      "text/plain": [
       "[11, 11.4, 'Python list', False, 22, 44, 55, 65, 322, 32, 42, 6]"
      ]
     },
     "execution_count": 499,
     "metadata": {},
     "output_type": "execute_result"
    }
   ],
   "source": [
    "lst1.append(6)\n",
    "lst1"
   ]
  },
  {
   "cell_type": "code",
   "execution_count": 500,
   "id": "b350149d",
   "metadata": {},
   "outputs": [
    {
     "data": {
      "text/plain": [
       "[11, 11.4, 'Python list', False, 22, 44, 55, 65, 322, 32, 42, 6]"
      ]
     },
     "execution_count": 500,
     "metadata": {},
     "output_type": "execute_result"
    }
   ],
   "source": [
    "lst2=lst1.copy()\n",
    "lst2"
   ]
  },
  {
   "cell_type": "code",
   "execution_count": 501,
   "id": "5a19aa3d",
   "metadata": {},
   "outputs": [
    {
     "data": {
      "text/plain": [
       "[11, 11.4, 'Python list', False, 22, 44, 55, 65, 322, 32, 42, 6, 22]"
      ]
     },
     "execution_count": 501,
     "metadata": {},
     "output_type": "execute_result"
    }
   ],
   "source": [
    "lst1.append(22)\n",
    "lst1"
   ]
  },
  {
   "cell_type": "code",
   "execution_count": 502,
   "id": "ab5fbf89",
   "metadata": {},
   "outputs": [],
   "source": [
    "lst1.append(22)"
   ]
  },
  {
   "cell_type": "code",
   "execution_count": 503,
   "id": "7bd1eab6",
   "metadata": {},
   "outputs": [
    {
     "data": {
      "text/plain": [
       "[11, 11.4, 'Python list', False, 22, 44, 55, 65, 322, 32, 42, 6, 22, 22, 22]"
      ]
     },
     "execution_count": 503,
     "metadata": {},
     "output_type": "execute_result"
    }
   ],
   "source": [
    "lst1.append(22)\n",
    "lst1"
   ]
  },
  {
   "cell_type": "code",
   "execution_count": 504,
   "id": "0bf692c0",
   "metadata": {},
   "outputs": [
    {
     "data": {
      "text/plain": [
       "0"
      ]
     },
     "execution_count": 504,
     "metadata": {},
     "output_type": "execute_result"
    }
   ],
   "source": [
    "lst1.count(33)\n",
    "\n"
   ]
  },
  {
   "cell_type": "markdown",
   "id": "39144cac",
   "metadata": {},
   "source": [
    "##Break in parts"
   ]
  },
  {
   "cell_type": "code",
   "execution_count": 505,
   "id": "ea7e715b",
   "metadata": {},
   "outputs": [
    {
     "data": {
      "text/plain": [
       "[11,\n",
       " 11.4,\n",
       " 'Python list',\n",
       " False,\n",
       " 22,\n",
       " 44,\n",
       " 55,\n",
       " 65,\n",
       " 322,\n",
       " 32,\n",
       " 42,\n",
       " 6,\n",
       " 22,\n",
       " 22,\n",
       " 22,\n",
       " '1',\n",
       " '1',\n",
       " '.',\n",
       " '5']"
      ]
     },
     "execution_count": 505,
     "metadata": {},
     "output_type": "execute_result"
    }
   ],
   "source": [
    "lst1.extend('11.5')\n",
    "lst1"
   ]
  },
  {
   "cell_type": "code",
   "execution_count": 506,
   "id": "a08f33c6",
   "metadata": {},
   "outputs": [
    {
     "data": {
      "text/plain": [
       "4"
      ]
     },
     "execution_count": 506,
     "metadata": {},
     "output_type": "execute_result"
    }
   ],
   "source": [
    "lst1.index(22)"
   ]
  },
  {
   "cell_type": "code",
   "execution_count": 507,
   "id": "c60dba7e",
   "metadata": {},
   "outputs": [],
   "source": [
    "lst1.insert(2,\"Hello Python\")\n"
   ]
  },
  {
   "cell_type": "markdown",
   "id": "2e725834",
   "metadata": {},
   "source": [
    "##This pop function takes index values "
   ]
  },
  {
   "cell_type": "code",
   "execution_count": 508,
   "id": "52598c57",
   "metadata": {},
   "outputs": [
    {
     "data": {
      "text/plain": [
       "'Hello Python'"
      ]
     },
     "execution_count": 508,
     "metadata": {},
     "output_type": "execute_result"
    }
   ],
   "source": [
    "lst1.pop(2)"
   ]
  },
  {
   "cell_type": "code",
   "execution_count": 509,
   "id": "4ea02320",
   "metadata": {},
   "outputs": [],
   "source": [
    "lst1.remove(22)"
   ]
  },
  {
   "cell_type": "code",
   "execution_count": 510,
   "id": "6a3d905c",
   "metadata": {},
   "outputs": [
    {
     "data": {
      "text/plain": [
       "['5',\n",
       " '.',\n",
       " '1',\n",
       " '1',\n",
       " 22,\n",
       " 22,\n",
       " 22,\n",
       " 6,\n",
       " 42,\n",
       " 32,\n",
       " 322,\n",
       " 65,\n",
       " 55,\n",
       " 44,\n",
       " False,\n",
       " 'Python list',\n",
       " 11.4,\n",
       " 11]"
      ]
     },
     "execution_count": 510,
     "metadata": {},
     "output_type": "execute_result"
    }
   ],
   "source": [
    "lst1.reverse()\n",
    "lst1\n"
   ]
  },
  {
   "cell_type": "code",
   "execution_count": 511,
   "id": "52721730",
   "metadata": {},
   "outputs": [
    {
     "data": {
      "text/plain": [
       "[]"
      ]
     },
     "execution_count": 511,
     "metadata": {},
     "output_type": "execute_result"
    }
   ],
   "source": [
    "lst1.clear()\n",
    "lst1"
   ]
  },
  {
   "cell_type": "markdown",
   "id": "89b4817c",
   "metadata": {},
   "source": [
    "## Dictionary"
   ]
  },
  {
   "cell_type": "code",
   "execution_count": 512,
   "id": "75ef9fda",
   "metadata": {},
   "outputs": [
    {
     "data": {
      "text/plain": [
       "dict_keys(['samosa', 'Wasa paav', 'Paav bhaji'])"
      ]
     },
     "execution_count": 512,
     "metadata": {},
     "output_type": "execute_result"
    }
   ],
   "source": [
    "dic={'samosa':10,'Wasa paav':12,'Paav bhaji':20}\n",
    "dic.keys()"
   ]
  },
  {
   "cell_type": "code",
   "execution_count": 513,
   "id": "9f08edca",
   "metadata": {},
   "outputs": [
    {
     "data": {
      "text/plain": [
       "dict_items([('samosa', 10), ('Wasa paav', 12), ('Paav bhaji', 20)])"
      ]
     },
     "execution_count": 513,
     "metadata": {},
     "output_type": "execute_result"
    }
   ],
   "source": [
    "dic.items()"
   ]
  },
  {
   "cell_type": "code",
   "execution_count": 514,
   "id": "5f982780",
   "metadata": {},
   "outputs": [
    {
     "data": {
      "text/plain": [
       "dict_values([10, 12, 20])"
      ]
     },
     "execution_count": 514,
     "metadata": {},
     "output_type": "execute_result"
    }
   ],
   "source": [
    "dic.values()"
   ]
  },
  {
   "cell_type": "code",
   "execution_count": 515,
   "id": "e0218323",
   "metadata": {},
   "outputs": [],
   "source": [
    "dic1={'jaya':22,'Sushma':33,'Babita':24}"
   ]
  },
  {
   "cell_type": "code",
   "execution_count": 516,
   "id": "820ce8d1",
   "metadata": {},
   "outputs": [],
   "source": [
    "dic1.update(dic)"
   ]
  },
  {
   "cell_type": "code",
   "execution_count": 517,
   "id": "adce5127",
   "metadata": {},
   "outputs": [
    {
     "data": {
      "text/plain": [
       "{'jaya': 22,\n",
       " 'Sushma': 33,\n",
       " 'Babita': 24,\n",
       " 'samosa': 10,\n",
       " 'Wasa paav': 12,\n",
       " 'Paav bhaji': 20}"
      ]
     },
     "execution_count": 517,
     "metadata": {},
     "output_type": "execute_result"
    }
   ],
   "source": [
    "dic1"
   ]
  },
  {
   "cell_type": "code",
   "execution_count": 518,
   "id": "9db73036",
   "metadata": {},
   "outputs": [
    {
     "data": {
      "text/plain": [
       "22"
      ]
     },
     "execution_count": 518,
     "metadata": {},
     "output_type": "execute_result"
    }
   ],
   "source": [
    "dic1.get('jaya')\n",
    "\n",
    "\n"
   ]
  },
  {
   "cell_type": "code",
   "execution_count": 519,
   "id": "037c0ece",
   "metadata": {},
   "outputs": [
    {
     "data": {
      "text/plain": [
       "22"
      ]
     },
     "execution_count": 519,
     "metadata": {},
     "output_type": "execute_result"
    }
   ],
   "source": [
    "dic1.setdefault('jaya')"
   ]
  },
  {
   "cell_type": "code",
   "execution_count": 520,
   "id": "80c16a7d",
   "metadata": {},
   "outputs": [],
   "source": [
    "dic2=dic1.copy()"
   ]
  },
  {
   "cell_type": "code",
   "execution_count": 521,
   "id": "9a28dcc3",
   "metadata": {},
   "outputs": [
    {
     "data": {
      "text/plain": [
       "{'jaya': 22,\n",
       " 'Sushma': 33,\n",
       " 'Babita': 24,\n",
       " 'samosa': 10,\n",
       " 'Wasa paav': 12,\n",
       " 'Paav bhaji': 20}"
      ]
     },
     "execution_count": 521,
     "metadata": {},
     "output_type": "execute_result"
    }
   ],
   "source": [
    "dic2"
   ]
  },
  {
   "cell_type": "code",
   "execution_count": 522,
   "id": "5490330c",
   "metadata": {},
   "outputs": [],
   "source": [
    "dic2.clear()"
   ]
  },
  {
   "cell_type": "code",
   "execution_count": 523,
   "id": "845abb8a",
   "metadata": {},
   "outputs": [
    {
     "data": {
      "text/plain": [
       "{}"
      ]
     },
     "execution_count": 523,
     "metadata": {},
     "output_type": "execute_result"
    }
   ],
   "source": [
    "dic2"
   ]
  },
  {
   "cell_type": "code",
   "execution_count": 524,
   "id": "54850031",
   "metadata": {},
   "outputs": [
    {
     "data": {
      "text/plain": [
       "{'s': None, 'a': None, 'm': None, 'o': None}"
      ]
     },
     "execution_count": 524,
     "metadata": {},
     "output_type": "execute_result"
    }
   ],
   "source": [
    "dic2.fromkeys('samosa')"
   ]
  },
  {
   "cell_type": "code",
   "execution_count": 525,
   "id": "e3844337",
   "metadata": {},
   "outputs": [
    {
     "data": {
      "text/plain": [
       "24"
      ]
     },
     "execution_count": 525,
     "metadata": {},
     "output_type": "execute_result"
    }
   ],
   "source": [
    "dic2.pop('babita',24)"
   ]
  },
  {
   "cell_type": "code",
   "execution_count": 526,
   "id": "90c12631",
   "metadata": {},
   "outputs": [
    {
     "data": {
      "text/plain": [
       "{}"
      ]
     },
     "execution_count": 526,
     "metadata": {},
     "output_type": "execute_result"
    }
   ],
   "source": [
    "dic2"
   ]
  },
  {
   "cell_type": "code",
   "execution_count": 527,
   "id": "f061bf86",
   "metadata": {},
   "outputs": [
    {
     "data": {
      "text/plain": [
       "{'jaya': 22,\n",
       " 'Sushma': 33,\n",
       " 'Babita': 24,\n",
       " 'samosa': 10,\n",
       " 'Wasa paav': 12,\n",
       " 'Paav bhaji': 20}"
      ]
     },
     "execution_count": 527,
     "metadata": {},
     "output_type": "execute_result"
    }
   ],
   "source": [
    "dic1"
   ]
  },
  {
   "cell_type": "code",
   "execution_count": 528,
   "id": "35aa0d3a",
   "metadata": {},
   "outputs": [],
   "source": [
    "dic2=dic1.copy()"
   ]
  },
  {
   "cell_type": "code",
   "execution_count": 529,
   "id": "16da0705",
   "metadata": {},
   "outputs": [
    {
     "data": {
      "text/plain": [
       "{'jaya': 22,\n",
       " 'Sushma': 33,\n",
       " 'Babita': 24,\n",
       " 'samosa': 10,\n",
       " 'Wasa paav': 12,\n",
       " 'Paav bhaji': 20}"
      ]
     },
     "execution_count": 529,
     "metadata": {},
     "output_type": "execute_result"
    }
   ],
   "source": [
    "dic2"
   ]
  },
  {
   "cell_type": "markdown",
   "id": "b3c22f55",
   "metadata": {},
   "source": [
    "## Popitem delete the last value"
   ]
  },
  {
   "cell_type": "code",
   "execution_count": 530,
   "id": "3beee7eb",
   "metadata": {},
   "outputs": [
    {
     "data": {
      "text/plain": [
       "('Paav bhaji', 20)"
      ]
     },
     "execution_count": 530,
     "metadata": {},
     "output_type": "execute_result"
    }
   ],
   "source": [
    "dic2.popitem()"
   ]
  },
  {
   "cell_type": "code",
   "execution_count": 531,
   "id": "af045254",
   "metadata": {},
   "outputs": [
    {
     "data": {
      "text/plain": [
       "{'jaya': 22, 'Sushma': 33, 'Babita': 24, 'samosa': 10, 'Wasa paav': 12}"
      ]
     },
     "execution_count": 531,
     "metadata": {},
     "output_type": "execute_result"
    }
   ],
   "source": [
    "dic2"
   ]
  },
  {
   "cell_type": "markdown",
   "id": "564b3127",
   "metadata": {},
   "source": [
    "## Pop function delete the key and value of"
   ]
  },
  {
   "cell_type": "code",
   "execution_count": 532,
   "id": "95bcee47",
   "metadata": {},
   "outputs": [
    {
     "data": {
      "text/plain": [
       "10"
      ]
     },
     "execution_count": 532,
     "metadata": {},
     "output_type": "execute_result"
    }
   ],
   "source": [
    "dic2.pop('samosa')"
   ]
  },
  {
   "cell_type": "code",
   "execution_count": 533,
   "id": "ab9b8cc7",
   "metadata": {},
   "outputs": [
    {
     "data": {
      "text/plain": [
       "{'jaya': 22, 'Sushma': 33, 'Babita': 24, 'Wasa paav': 12}"
      ]
     },
     "execution_count": 533,
     "metadata": {},
     "output_type": "execute_result"
    }
   ],
   "source": [
    "dic2"
   ]
  },
  {
   "cell_type": "code",
   "execution_count": 534,
   "id": "24ac78d9",
   "metadata": {},
   "outputs": [
    {
     "data": {
      "text/plain": [
       "{'paan': 20, 'bidi': 3, 'sambhaji': 4}"
      ]
     },
     "execution_count": 534,
     "metadata": {},
     "output_type": "execute_result"
    }
   ],
   "source": [
    "dic2={'paan':20,'bidi':3,'sambhaji':4}\n",
    "dic2\n"
   ]
  },
  {
   "cell_type": "code",
   "execution_count": 535,
   "id": "031e529b",
   "metadata": {},
   "outputs": [
    {
     "data": {
      "text/plain": [
       "20"
      ]
     },
     "execution_count": 535,
     "metadata": {},
     "output_type": "execute_result"
    }
   ],
   "source": [
    "dic2.get('paan')"
   ]
  },
  {
   "cell_type": "markdown",
   "id": "066711bf",
   "metadata": {},
   "source": [
    "## Set"
   ]
  },
  {
   "cell_type": "code",
   "execution_count": 536,
   "id": "67b92923",
   "metadata": {},
   "outputs": [
    {
     "data": {
      "text/plain": [
       "set"
      ]
     },
     "execution_count": 536,
     "metadata": {},
     "output_type": "execute_result"
    }
   ],
   "source": [
    "s={1,4,2,5,8,2,63,4,4.4,'Python Set',False,11,22}\n",
    "type(s)"
   ]
  },
  {
   "cell_type": "code",
   "execution_count": 537,
   "id": "7d9890ce",
   "metadata": {},
   "outputs": [],
   "source": [
    "s={11,11.2,'Python set'}"
   ]
  },
  {
   "cell_type": "markdown",
   "id": "9e45bc43",
   "metadata": {},
   "source": [
    "## 'tuple' object has no attribute 'add'\n",
    "s.add(45)"
   ]
  },
  {
   "cell_type": "code",
   "execution_count": 538,
   "id": "9fec9438",
   "metadata": {},
   "outputs": [
    {
     "data": {
      "text/plain": [
       "{11, 11.2, 'Python set'}"
      ]
     },
     "execution_count": 538,
     "metadata": {},
     "output_type": "execute_result"
    }
   ],
   "source": [
    "s"
   ]
  },
  {
   "cell_type": "code",
   "execution_count": 539,
   "id": "05f9fc72",
   "metadata": {},
   "outputs": [],
   "source": [
    "s1={11,22,33,44,55}"
   ]
  },
  {
   "cell_type": "code",
   "execution_count": 540,
   "id": "ddd7cce5",
   "metadata": {},
   "outputs": [
    {
     "data": {
      "text/plain": [
       "{11}"
      ]
     },
     "execution_count": 540,
     "metadata": {},
     "output_type": "execute_result"
    }
   ],
   "source": [
    "s1.intersection(s)"
   ]
  },
  {
   "cell_type": "code",
   "execution_count": 541,
   "id": "ba1ddab2",
   "metadata": {},
   "outputs": [
    {
     "data": {
      "text/plain": [
       "{11, 11.2, 22, 33, 44, 55, 'Python set'}"
      ]
     },
     "execution_count": 541,
     "metadata": {},
     "output_type": "execute_result"
    }
   ],
   "source": [
    "s1.union(s)"
   ]
  },
  {
   "cell_type": "markdown",
   "id": "82d41121",
   "metadata": {},
   "source": [
    "## Pop function in set does not define which item is going to delete"
   ]
  },
  {
   "cell_type": "code",
   "execution_count": 542,
   "id": "f37ecbb1",
   "metadata": {},
   "outputs": [
    {
     "data": {
      "text/plain": [
       "33"
      ]
     },
     "execution_count": 542,
     "metadata": {},
     "output_type": "execute_result"
    }
   ],
   "source": [
    "s1.pop()"
   ]
  },
  {
   "cell_type": "code",
   "execution_count": 543,
   "id": "9bc945c7",
   "metadata": {},
   "outputs": [
    {
     "data": {
      "text/plain": [
       "{11, 22, 44, 55}"
      ]
     },
     "execution_count": 543,
     "metadata": {},
     "output_type": "execute_result"
    }
   ],
   "source": [
    "s1"
   ]
  },
  {
   "cell_type": "markdown",
   "id": "888d1836",
   "metadata": {},
   "source": [
    "## Remove only passed value"
   ]
  },
  {
   "cell_type": "code",
   "execution_count": 544,
   "id": "74a570a6",
   "metadata": {},
   "outputs": [],
   "source": [
    "s1.remove(22)"
   ]
  },
  {
   "cell_type": "code",
   "execution_count": 545,
   "id": "a029eeed",
   "metadata": {},
   "outputs": [
    {
     "data": {
      "text/plain": [
       "{11, 44, 55}"
      ]
     },
     "execution_count": 545,
     "metadata": {},
     "output_type": "execute_result"
    }
   ],
   "source": [
    "s1"
   ]
  },
  {
   "cell_type": "code",
   "execution_count": 546,
   "id": "8616dc64",
   "metadata": {},
   "outputs": [],
   "source": [
    "s1.discard(44)"
   ]
  },
  {
   "cell_type": "code",
   "execution_count": 547,
   "id": "f1b52437",
   "metadata": {},
   "outputs": [
    {
     "data": {
      "text/plain": [
       "{11, 55}"
      ]
     },
     "execution_count": 547,
     "metadata": {},
     "output_type": "execute_result"
    }
   ],
   "source": [
    "s1"
   ]
  },
  {
   "cell_type": "markdown",
   "id": "8760db61",
   "metadata": {},
   "source": [
    "## For updating"
   ]
  },
  {
   "cell_type": "code",
   "execution_count": 548,
   "id": "7da84b4c",
   "metadata": {},
   "outputs": [],
   "source": [
    "s1.update([22,34,66,77])"
   ]
  },
  {
   "cell_type": "code",
   "execution_count": 549,
   "id": "daf3e9e3",
   "metadata": {},
   "outputs": [
    {
     "data": {
      "text/plain": [
       "{11, 22, 34, 55, 66, 77}"
      ]
     },
     "execution_count": 549,
     "metadata": {},
     "output_type": "execute_result"
    }
   ],
   "source": [
    "s1"
   ]
  },
  {
   "cell_type": "code",
   "execution_count": 550,
   "id": "03f1c5f5",
   "metadata": {},
   "outputs": [],
   "source": [
    "s1.add(99)"
   ]
  },
  {
   "cell_type": "code",
   "execution_count": 551,
   "id": "b92d5105",
   "metadata": {},
   "outputs": [
    {
     "data": {
      "text/plain": [
       "{11, 22, 34, 55, 66, 77, 99}"
      ]
     },
     "execution_count": 551,
     "metadata": {},
     "output_type": "execute_result"
    }
   ],
   "source": [
    "s1"
   ]
  },
  {
   "cell_type": "markdown",
   "id": "047bd734",
   "metadata": {},
   "source": [
    "## creating empty set"
   ]
  },
  {
   "cell_type": "code",
   "execution_count": 552,
   "id": "1890a7f5",
   "metadata": {},
   "outputs": [
    {
     "data": {
      "text/plain": [
       "set"
      ]
     },
     "execution_count": 552,
     "metadata": {},
     "output_type": "execute_result"
    }
   ],
   "source": [
    "s3=set()\n",
    "type(s3)"
   ]
  },
  {
   "cell_type": "code",
   "execution_count": 553,
   "id": "fcdb5af9",
   "metadata": {},
   "outputs": [
    {
     "data": {
      "text/plain": [
       "{91, 92, 93, 94, 95, 96, 97, 98, 99}"
      ]
     },
     "execution_count": 553,
     "metadata": {},
     "output_type": "execute_result"
    }
   ],
   "source": [
    "s3={91,92,93,94,95,96,97,98,99}\n",
    "s3"
   ]
  },
  {
   "cell_type": "code",
   "execution_count": 554,
   "id": "d612dab0",
   "metadata": {},
   "outputs": [
    {
     "data": {
      "text/plain": [
       "{91, 92, 93, 94, 95, 96, 97, 98, 99}"
      ]
     },
     "execution_count": 554,
     "metadata": {},
     "output_type": "execute_result"
    }
   ],
   "source": [
    "s3.difference()"
   ]
  },
  {
   "cell_type": "code",
   "execution_count": null,
   "id": "a567337f",
   "metadata": {},
   "outputs": [],
   "source": [
    "print(\"Hello everyone how are you\")"
   ]
  },
  {
   "cell_type": "code",
   "execution_count": null,
   "id": "56772dad",
   "metadata": {},
   "outputs": [],
   "source": []
  },
  {
   "cell_type": "code",
   "execution_count": null,
   "id": "55052d32",
   "metadata": {},
   "outputs": [],
   "source": []
  },
  {
   "cell_type": "code",
   "execution_count": null,
   "id": "8a84a032",
   "metadata": {},
   "outputs": [],
   "source": []
  },
  {
   "cell_type": "code",
   "execution_count": null,
   "id": "969aa8f4",
   "metadata": {},
   "outputs": [],
   "source": []
  },
  {
   "cell_type": "code",
   "execution_count": null,
   "id": "fce628f9",
   "metadata": {},
   "outputs": [],
   "source": []
  },
  {
   "cell_type": "code",
   "execution_count": null,
   "id": "cadc60f9",
   "metadata": {},
   "outputs": [],
   "source": []
  },
  {
   "cell_type": "code",
   "execution_count": null,
   "id": "32999918",
   "metadata": {},
   "outputs": [],
   "source": []
  },
  {
   "cell_type": "code",
   "execution_count": null,
   "id": "0eb5fbb3",
   "metadata": {},
   "outputs": [],
   "source": []
  },
  {
   "cell_type": "code",
   "execution_count": null,
   "id": "8002f97b",
   "metadata": {},
   "outputs": [],
   "source": []
  },
  {
   "cell_type": "code",
   "execution_count": null,
   "id": "c6bb62e5",
   "metadata": {},
   "outputs": [],
   "source": []
  },
  {
   "cell_type": "code",
   "execution_count": null,
   "id": "a0fda1fa",
   "metadata": {},
   "outputs": [],
   "source": []
  }
 ],
 "metadata": {
  "kernelspec": {
   "display_name": "Python 3",
   "language": "python",
   "name": "python3"
  },
  "language_info": {
   "codemirror_mode": {
    "name": "ipython",
    "version": 3
   },
   "file_extension": ".py",
   "mimetype": "text/x-python",
   "name": "python",
   "nbconvert_exporter": "python",
   "pygments_lexer": "ipython3",
   "version": "3.8.8"
  }
 },
 "nbformat": 4,
 "nbformat_minor": 5
}
